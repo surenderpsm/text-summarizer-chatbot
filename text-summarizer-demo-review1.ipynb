{
 "cells": [
  {
   "cell_type": "code",
   "execution_count": 1,
   "id": "3fd0569e",
   "metadata": {},
   "outputs": [],
   "source": [
    "import nltk\n",
    "from nltk.corpus import stopwords\n",
    "from nltk.cluster.util import cosine_distance\n",
    "import numpy as np\n",
    "import networkx as nx"
   ]
  },
  {
   "cell_type": "code",
   "execution_count": 2,
   "id": "7b1b8f4b",
   "metadata": {},
   "outputs": [],
   "source": [
    "# function to read the article and return an 2D list with all the sentences\n",
    "def read_art(fname):\n",
    "    fname = open(fname,\"r\")\n",
    "    fdata = fname.readlines()\n",
    "    article = fdata[0].split(\". \")\n",
    "    sentences=[]\n",
    "    for sentence in article:\n",
    "        sentences.append(sentence.replace(\"[^a-zA-Z]\",\" \").split(\" \"))\n",
    "    sentences.pop()\n",
    "    return sentences"
   ]
  },
  {
   "cell_type": "code",
   "execution_count": 3,
   "id": "67dc95fb",
   "metadata": {},
   "outputs": [],
   "source": [
    "# function to compare 2 sentences and rank them\n",
    "def s_sim(s1,s2,stopwords=None):\n",
    "    if stopwords is None:\n",
    "        stopwords=[]\n",
    "    s1 = [w.lower() for w in s1]\n",
    "    s2 = [w.lower() for w in s2]\n",
    "    allw = list(set(s1+s2))\n",
    "    \n",
    "    v1 = [0] * len(allw)\n",
    "    v2 = [0] * len(allw)\n",
    "    for w in s1:\n",
    "        if w in stopwords:\n",
    "            continue\n",
    "        v1[allw.index(w)] += 1\n",
    "    for w in s2:\n",
    "        if w in stopwords:\n",
    "            continue\n",
    "        v2[allw.index(w)] += 1\n",
    "    return 1-cosine_distance(v1,v2)"
   ]
  },
  {
   "cell_type": "code",
   "execution_count": 4,
   "id": "e6718266",
   "metadata": {},
   "outputs": [],
   "source": [
    "# function to generate the sentence matrix\n",
    "def sim_matrix(sentences,stop_words):\n",
    "    sim_mat = np.zeros((len(sentences),len(sentences)))\n",
    "    for idx1 in range(len(sentences)):\n",
    "        for idx2 in range(len(sentences)):\n",
    "            if idx1==idx2:\n",
    "                continue\n",
    "            sim_mat[idx1][idx2]=s_sim(sentences[idx1],sentences[idx2],stop_words)\n",
    "    return sim_mat"
   ]
  },
  {
   "cell_type": "code",
   "execution_count": 5,
   "id": "fe2592ac",
   "metadata": {},
   "outputs": [],
   "source": [
    "# generate summary\n",
    "def gensum(fname,n=5):\n",
    "    stop_words=stopwords.words('english')\n",
    "    summarize_text=[]\n",
    "    sentences = read_art(fname)\n",
    "    sentence_sim_matrix = sim_matrix(sentences,stop_words)\n",
    "    sentence_sim_graph = nx.from_numpy_array(sentence_sim_matrix)\n",
    "    scores = nx.pagerank(sentence_sim_graph)\n",
    "    ranked_sentence = sorted(((scores[i],s)for i,s in enumerate(sentences)),reverse=True)\n",
    "    for i in range(n):\n",
    "        summarize_text.append(\" \".join(ranked_sentence[i][1]))\n",
    "    print(\"Summary \\n\",\". \".join(summarize_text))"
   ]
  },
  {
   "cell_type": "code",
   "execution_count": 6,
   "id": "26d28d89",
   "metadata": {},
   "outputs": [
    {
     "name": "stdout",
     "output_type": "stream",
     "text": [
      "Summary \n",
      " Nifty too moved between gains and losses before closing 8.20 points or 0.05 per cent lower at 17,101.95. The index finally closed 76.71 points or 0.13 per cent lower at 57,200.23 amid highly volatile trade. Banking and auto shares were the top losers with BSE bankex and auto indices falling 326 and 166 points, respectively. BSE mid cap and small cap indices rose 244 points and 306 points, respectively. Benchmark indices ended lower after trading with massive gains during the majority of session today\n"
     ]
    }
   ],
   "source": [
    "gensum(\"demo.txt\", 5)"
   ]
  }
 ],
 "metadata": {
  "kernelspec": {
   "display_name": "Python 3 (ipykernel)",
   "language": "python",
   "name": "python3"
  },
  "language_info": {
   "codemirror_mode": {
    "name": "ipython",
    "version": 3
   },
   "file_extension": ".py",
   "mimetype": "text/x-python",
   "name": "python",
   "nbconvert_exporter": "python",
   "pygments_lexer": "ipython3",
   "version": "3.9.7"
  }
 },
 "nbformat": 4,
 "nbformat_minor": 5
}
